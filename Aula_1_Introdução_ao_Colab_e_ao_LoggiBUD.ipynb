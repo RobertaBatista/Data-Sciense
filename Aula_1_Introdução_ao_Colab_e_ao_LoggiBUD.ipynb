{
  "nbformat": 4,
  "nbformat_minor": 0,
  "metadata": {
    "colab": {
      "name": "Aula 1: Introdução ao Colab e ao LoggiBUD",
      "provenance": [],
      "collapsed_sections": [],
      "toc_visible": true,
      "include_colab_link": true
    },
    "kernelspec": {
      "display_name": "Python 3",
      "name": "python3"
    },
    "language_info": {
      "name": "python"
    }
  },
  "cells": [
    {
      "cell_type": "markdown",
      "metadata": {
        "id": "view-in-github",
        "colab_type": "text"
      },
      "source": [
        "<a href=\"https://colab.research.google.com/github/RobertaBatista/Data-Sciense/blob/main/Aula_1_Introdu%C3%A7%C3%A3o_ao_Colab_e_ao_LoggiBUD.ipynb\" target=\"_parent\"><img src=\"https://colab.research.google.com/assets/colab-badge.svg\" alt=\"Open In Colab\"/></a>"
      ]
    },
    {
      "cell_type": "markdown",
      "metadata": {
        "id": "SMHa5wiT1u6I"
      },
      "source": [
        "---\n",
        "\n",
        "# Atenção!\n",
        "\n",
        "Lembre-se de clonar este notebook antes de tentar editar as células de código. \n",
        "\n",
        "Para isso, basta seguir os passos:\n",
        "\n",
        "File -> Save a copy in Drive\n",
        "\n",
        "\n",
        "\n",
        "---"
      ]
    },
    {
      "cell_type": "markdown",
      "metadata": {
        "id": "KdGxJeq3ZWY7"
      },
      "source": [
        "# Introdução ao Google Colab"
      ]
    },
    {
      "cell_type": "markdown",
      "metadata": {
        "id": "FrtPbECoWVDh"
      },
      "source": [
        "O Google Colab é um ambiente de desenvolvimento em nuvem fornecido pelo Google. Ele fornece um ambiente de programação na Linguagem Python baseado no editor [Jupyter](https://jupyter.org/). Ele combina código e documentação de texto, e é muito útil para prototipagem e ensino de computação.\n",
        "\n",
        "O ambiente de computação do Colab usa máquinas vírtuais voláteis, mas os resultados da computação são salvos em um documento do Google Drive. Então os resultados de execução ficarão salvos, mas tudo que não estiver impresso no notebook (memória, variáveis, arquivos) será perdido no fim da sessão. Lembre de salvar tudo que irá precisar ao longo da execução. Todos os usuários têm 12h de execução por dia, podendo ter a sessão interrompida por inatividade. \n"
      ]
    },
    {
      "cell_type": "markdown",
      "metadata": {
        "id": "L5p7-C0w2Q69"
      },
      "source": [
        "### Conceitos básicos"
      ]
    },
    {
      "cell_type": "markdown",
      "metadata": {
        "id": "-1uZBnp72TfI"
      },
      "source": [
        "Um documento do Colab é chamado Notebook (ou caderno), e notebooks são compostos por células. Células podem conter texto ou código e são executadas individualmente. Este é um exemplo de célula de texto, e abaixo temos um exemplo de célula de código. Para executar uma célula você pode clicar no campo e apertar o símbolo \"Play\", ou usar o atalho Ctrl + Enter."
      ]
    },
    {
      "cell_type": "code",
      "metadata": {
        "id": "K34ggjpIWQbV"
      },
      "source": [
        "1 + 1"
      ],
      "execution_count": null,
      "outputs": []
    },
    {
      "cell_type": "markdown",
      "metadata": {
        "id": "pRJX0466Xf1K"
      },
      "source": [
        "Toda a célula de código executada tem abaixo a saída da última linha executada. No exemplo anterior podemos ver o resultado na computação desta linha. Impressões feitas por meio da função `print()` ou usando logs também  aparecem na saída do notebook."
      ]
    },
    {
      "cell_type": "code",
      "metadata": {
        "id": "U3S0iP2SX_DC"
      },
      "source": [
        "print(\"Linha 1\")\n",
        "print(\"Linha 2\")\n",
        "\n",
        "\"Resultado final\""
      ],
      "execution_count": null,
      "outputs": []
    },
    {
      "cell_type": "markdown",
      "metadata": {
        "id": "LDcLWiU0YRB5"
      },
      "source": [
        "Um último conceito importante é que a mémoria das células é compartilhada, mas a execução de células é sequencial, então uma célula pode depender de símbolos (variáveis, funções ou classes) definidos em células anteriores, contanto que sejam executadas na ordem correta. \n",
        "\n",
        "Um erro comum no Jupyter é definir algum símbolo, escrever código que depende daquele símbolo e depois apagar o código. Isso faz com que seu código execute durante o desenvolvimento, mas quando você tentar reproduzir o notebook, o seu código não vai mais funcionar.\n",
        "\n",
        "O Colab permite executar um notebook todo de maneira sequencial usando o comando `Runtime -> Run All`. Para limpar todos os símbolos e executar o notebook de maneira sequencial, use o comando `Runtime -> Restart and Run All`."
      ]
    },
    {
      "cell_type": "code",
      "metadata": {
        "id": "txGfnEj5YQPf"
      },
      "source": [
        "a = 1"
      ],
      "execution_count": null,
      "outputs": []
    },
    {
      "cell_type": "code",
      "metadata": {
        "id": "dmE9WAkUY1ph"
      },
      "source": [
        "a + 1"
      ],
      "execution_count": null,
      "outputs": []
    },
    {
      "cell_type": "code",
      "metadata": {
        "id": "VLXw7UB1Y6AP"
      },
      "source": [
        "# Assumindo que essa linha foi removida.\n",
        "# b = 2"
      ],
      "execution_count": null,
      "outputs": []
    },
    {
      "cell_type": "code",
      "metadata": {
        "id": "7yogvn0XY89v"
      },
      "source": [
        "# Deve levantar um erro.\n",
        "# b"
      ],
      "execution_count": null,
      "outputs": []
    },
    {
      "cell_type": "markdown",
      "metadata": {
        "id": "oBYoHMANwtuo"
      },
      "source": [
        "## Executando comandos Linux"
      ]
    },
    {
      "cell_type": "markdown",
      "metadata": {
        "id": "NgEAhkZTwxEG"
      },
      "source": [
        "O interpretador do Jupyter também permite a execução de comandos do terminal do Linux nas células de código. Você pode usar estes comandos para instalar pacotes no sistema, fazer Downloads, mover arquivos, etc.\n",
        "\n",
        "Para executar um comando no Terminal, basta começar a linha da célula com uma exclamação (!). Veja um exemplo para o comando pwd abaixo, que mostra o diretório corrente."
      ]
    },
    {
      "cell_type": "code",
      "metadata": {
        "id": "qOJw2md6ws_j"
      },
      "source": [
        "!pwd"
      ],
      "execution_count": null,
      "outputs": []
    },
    {
      "cell_type": "markdown",
      "metadata": {
        "id": "D6DEsb_hxeAP"
      },
      "source": [
        "Para instalar um pacote Python, você pode usar o comando `pip`. No entanto você deve perceber que o ambiente do Colab já vem com vários pacotes instalados, como é o caso do numpy."
      ]
    },
    {
      "cell_type": "code",
      "metadata": {
        "id": "HQYxF97Rxma5"
      },
      "source": [
        "!pip install numpy"
      ],
      "execution_count": null,
      "outputs": []
    },
    {
      "cell_type": "markdown",
      "metadata": {
        "id": "nuZ5hAH8WQ4f"
      },
      "source": [
        "## Conectando o Google Drive"
      ]
    },
    {
      "cell_type": "markdown",
      "metadata": {
        "id": "y7lNf-mSU9Ie"
      },
      "source": [
        "Se ao longo do desenvolvimento você precisar salvar arquivos de entrada ou resultados da execução do seu código, uma boa maneira de fazê-lo no Colab é usar o Google Drive. Abaixo apresentamos um exemplo de como se conectar ao Google Drive. Você pode futuramente acessar estes arquivos em um novo notebook, ou vê-los e baixá-los em [drive.google.com](drive.google.com).\n",
        "\n",
        "\n",
        "Ao executar o código abaixo, a saída do notebook terá um link e um campo de entrada. Você precisa acessar o link fornecido, fazer login no Google, e copiar a chave fornecida no campo de entrada."
      ]
    },
    {
      "cell_type": "code",
      "metadata": {
        "id": "F_FNW3KXVPub"
      },
      "source": [
        "from google.colab import drive\n",
        "drive.mount(\"/content/drive\")"
      ],
      "execution_count": null,
      "outputs": []
    },
    {
      "cell_type": "markdown",
      "metadata": {
        "id": "-9Yn9hFkvW_p"
      },
      "source": [
        "Após montar o diretório, tudo que for salvo em `/content/drive/MyDrive` estará disponível no seu Google Drive, e ficará salvo mesmo que a sessão seja destruida."
      ]
    },
    {
      "cell_type": "markdown",
      "metadata": {
        "id": "HZVMrLJFap8r"
      },
      "source": [
        "# Primeiros passos com o LoggiBUD"
      ]
    },
    {
      "cell_type": "markdown",
      "metadata": {
        "id": "RRm--JTP2BE1"
      },
      "source": [
        "### Download do código e dados"
      ]
    },
    {
      "cell_type": "code",
      "metadata": {
        "id": "jVyXfvwAb09c"
      },
      "source": [
        "# Clone o repositório\n",
        "!git clone https://github.com/loggi/loggibud"
      ],
      "execution_count": null,
      "outputs": []
    },
    {
      "cell_type": "code",
      "metadata": {
        "id": "h-XHVuN2Ort9"
      },
      "source": [
        "# Acesse a pasta com o código\n",
        "%cd /content/loggibud/\n",
        "!ls  # verifique os arquivos do projeto"
      ],
      "execution_count": null,
      "outputs": []
    },
    {
      "cell_type": "code",
      "metadata": {
        "id": "QE-hpgwxO9NU"
      },
      "source": [
        "# Instale as dependências do projeto\n",
        "!pip install poetry\n",
        "!poetry install\n",
        "# Se você estiver executando esse script localmente, não precisa dos dois comandos abaixo\n",
        "!poetry export -f requirements.txt --without-hashes --output requirements.txt \n",
        "!pip install -r requirements.txt"
      ],
      "execution_count": null,
      "outputs": []
    },
    {
      "cell_type": "code",
      "metadata": {
        "id": "UrsFkFUcPIgI"
      },
      "source": [
        "# Verifique que o código pode ser devidamente utilizado executando os testes\n",
        "# automatizados e assegurando que nenhum falha\n",
        "!poetry run pytest -s -v tests/"
      ],
      "execution_count": null,
      "outputs": []
    },
    {
      "cell_type": "markdown",
      "metadata": {
        "id": "BiFV-hk3PFir"
      },
      "source": [
        "Com o repositório devidamente baixado e em funcionamento, precisamos dos dados com as entregas em cada região:"
      ]
    },
    {
      "cell_type": "code",
      "metadata": {
        "id": "jKdQuiyHPsUo"
      },
      "source": [
        "# Baixe os dados compilados\n",
        "!wget -nc https://loggibud.s3.amazonaws.com/dataset.zip\n",
        "!unzip -n dataset.zip"
      ],
      "execution_count": null,
      "outputs": []
    },
    {
      "cell_type": "code",
      "metadata": {
        "id": "mNCA4QUnPxGw"
      },
      "source": [
        "# Verifique que a pasta `data/` agora não está mais vazia\n",
        "!ls data/"
      ],
      "execution_count": null,
      "outputs": []
    },
    {
      "cell_type": "markdown",
      "metadata": {
        "id": "uWwhmhfcP2pz"
      },
      "source": [
        "A pasta `data/` contém diversos arquivos no formato `.json` com uma estrutura específica. Familiarize-se com ela (Exercício 2) antes de prosseguir."
      ]
    },
    {
      "cell_type": "markdown",
      "metadata": {
        "id": "zftGcMkk2YQV"
      },
      "source": [
        "### Carregando uma instância"
      ]
    },
    {
      "cell_type": "markdown",
      "metadata": {
        "id": "W-ENVFi-WvKl"
      },
      "source": [
        "No repositório, nós usamos estruturas de dados bem definidas para representar cada tipo de informação, e nós encorajamos que vocês leiam o código no arquivo `loggibud/loggibud/v1/types.py`.\n",
        "\n",
        "Para exemplificar, vamos carregar uma instância de teste que está no caminho `\"./data/cvrp-instances-1.0/dev/pa-0/cvrp-0-pa-90.json\"`:\n",
        "\n"
      ]
    },
    {
      "cell_type": "code",
      "metadata": {
        "id": "ZNE3Da_sXkPt"
      },
      "source": [
        "# Comece carregando a instância\n",
        "from loggibud.v1.types import CVRPInstance\n",
        "\n",
        "\n",
        "file_path = \"./data/cvrp-instances-1.0/dev/pa-0/cvrp-0-pa-90.json\"\n",
        "problem = CVRPInstance.from_file(file_path)\n",
        "problem"
      ],
      "execution_count": null,
      "outputs": []
    },
    {
      "cell_type": "markdown",
      "metadata": {
        "id": "o9X2-2oaXqej"
      },
      "source": [
        "A variável `problem` contém todas as informações necessárias sobre as entregas realizadas na região PA com índice 0, no nonagésimo primeiro dia (começamos a contagem de dias no 0, o que explica 90 ser o 91º).\n",
        "\n",
        "Esta variável é do tipo `CVRPInstance`, que contém as seguintes propriedades:\n",
        "\n",
        "```python\n",
        "class CVRPInstance:\n",
        "    name: str   \n",
        "    region: str   \n",
        "    origin: Point   \n",
        "    vehicle_capacity: int   \n",
        "    deliveries: List[Delivery]\n",
        "```\n",
        "\n",
        "Aqui está o uso de algumas delas:"
      ]
    },
    {
      "cell_type": "code",
      "metadata": {
        "id": "cnK2NmaHYoZW"
      },
      "source": [
        "print(f\"A capacidade de cada veículo é: {problem.vehicle_capacity}\")\n",
        "print(f\"A localização do ponto de partida é: {problem.origin}\")\n",
        "print(f\"Esta instância possui um total de {len(problem.deliveries)} entregas\")"
      ],
      "execution_count": null,
      "outputs": []
    },
    {
      "cell_type": "code",
      "metadata": {
        "id": "ciSks-kCYseB"
      },
      "source": [
        "# Use este espaço para familiarizar-se com as outras propriedades desta variável"
      ],
      "execution_count": null,
      "outputs": []
    },
    {
      "cell_type": "markdown",
      "metadata": {
        "id": "T8sP5IedYzzn"
      },
      "source": [
        "A origem do problema, que é o ponto de partida de onde saem os veículos para realizar as entregas, é outra variável do tipo `Point`, com a seguinte estrutura:\n",
        "\n",
        "```python\n",
        "class Point:\n",
        "    lng: float\n",
        "    lat: float\n",
        "```\n",
        "\n",
        "Logo, ela contém suas coordenadas (latitude e longitude)."
      ]
    },
    {
      "cell_type": "markdown",
      "metadata": {
        "id": "xx9Ke3ZFZL25"
      },
      "source": [
        "Neste problema há 297 entregas. Vamos analisar como elas são estruturadas:"
      ]
    },
    {
      "cell_type": "code",
      "metadata": {
        "id": "Ka61PwdBZTBh"
      },
      "source": [
        "# Vamos analisar a primeira delas. O restante segue o mesmo formato\n",
        "delivery = problem.deliveries[0]\n",
        "delivery"
      ],
      "execution_count": null,
      "outputs": []
    },
    {
      "cell_type": "markdown",
      "metadata": {
        "id": "BrQ5fte2ZfS6"
      },
      "source": [
        "Assim, cada entrega é do tipo `Delivery`, e elas possuem além das coordenadas como no caso da origem, um identificador e uma demanda representada por `size`:\n",
        "\n",
        "```python\n",
        "class Delivery:\n",
        "    id: str\n",
        "    point: Point\n",
        "    size: int\n",
        "```"
      ]
    },
    {
      "cell_type": "code",
      "metadata": {
        "id": "g1V7inNAZkbk"
      },
      "source": [
        "# Use este espaço para analisar outras propriedades ou outras entregas deste problema"
      ],
      "execution_count": null,
      "outputs": []
    },
    {
      "cell_type": "markdown",
      "metadata": {
        "id": "bcZgS5UlZnlQ"
      },
      "source": [
        "Finalmente, podemos visualizar todas as entregas em um mapa para termos uma melhor visão do tipo de problema que estamos lidando:"
      ]
    },
    {
      "cell_type": "code",
      "metadata": {
        "id": "XvmQkLWaZtFh"
      },
      "source": [
        "from loggibud.v1.plotting.plot_instance import plot_cvrp_instance\n",
        "\n",
        "\n",
        "plot_cvrp_instance(problem)\n",
        "# Experimente mover e dar zoom no mapa\n",
        "# Se estiver executando este código localmente num shell, substitua o comando acima pelo seguinte:\n",
        "# plot_cvrp_instance(problem).save_to(\"map.html\")\n",
        "# Abra o arquivo `map.html` num navegador para ter a mesma experiência daqui"
      ],
      "execution_count": null,
      "outputs": []
    },
    {
      "cell_type": "markdown",
      "metadata": {
        "id": "V15cnX2BaHun"
      },
      "source": [
        "## Resolvendo uma instância de um Problema Estático"
      ]
    },
    {
      "cell_type": "markdown",
      "metadata": {
        "id": "E0h_b-QsaK20"
      },
      "source": [
        "O problema que pretendemos resolver pode ser estabelecido de diversas formas. Uma maneira compreensível de entendê-lo é que cada um dos pontos `problem.deliveries` do mapa acima é um pedido com um determinado \"tamanho\", e todas as rotas partem do nosso ponto de partida `problem.origin`. Para entregá-las, nós possuímos diversos veículos, cada um com uma capacidade para suportar um número de entregas. \n",
        "\n",
        "Nosso objetivo é organizar cada pedido em um veículo e construir rotas para entregá-los da forma mais eficiente possível.\n",
        "\n",
        "Este problema, apesar de simples de compreender, exige um certo aprofundamento para que seja bem resolvido para os requisitos de uma grande empresa. Nós faremos isso gradativamente ao longo deste curso. Nesta aula inicial, vamos nos limitar à familiarização com o repositório."
      ]
    },
    {
      "cell_type": "markdown",
      "metadata": {
        "id": "TlvWRaF3bqVs"
      },
      "source": [
        "O nosso repositório já possui alguns algoritmos prontos para resolver nosso problema (chamados comumente de \"solvers\"), então vamos fazer uso deles para entender que tipo de solução esperamos.\n",
        "\n",
        "Vamos utilizar um solver chamado [LKH-3](http://webhotel4.ruc.dk/~keld/research/LKH-3/) (não se preocupe em conhecer todas as siglas de uma vez. Para todos os propósitos, considere isto como uma função que cria rotas para os pedidos desenhados acima)"
      ]
    },
    {
      "cell_type": "code",
      "metadata": {
        "id": "U2JyDSBhcDIk"
      },
      "source": [
        "from loggibud.v1.baselines.task1 import lkh_3\n",
        "from loggibud.v1.distances import OSRMConfig\n",
        "\n",
        "# Usamos o OSRM para calcular as distâncias entre um pedido e outro\n",
        "osrm_config = OSRMConfig(host=\"http://ec2-34-222-175-250.us-west-2.compute.amazonaws.com\")\n",
        "lkh_params = lkh_3.LKHParams(osrm_config=osrm_config)\n",
        "\n",
        "solution = lkh_3.solve(problem, params=lkh_params)\n",
        "solution"
      ],
      "execution_count": null,
      "outputs": []
    },
    {
      "cell_type": "markdown",
      "metadata": {
        "id": "VfGX1ZpJ8Kbw"
      },
      "source": [
        "Várias coisas aconteceram nesta célula.\n",
        "\n",
        "Para organizar os pedidos em rotas eficientes, precisamos saber as distâncias entre um e o outro. Você deve estar familiarizado com a distância Euclidiana, que basicamente dá a distância em linha reta entre dois pontos. Porém, ela não basta para nossos propósitos já que estamos em uma cidade, e precisamos nos movimentar por ruas, e não atravessando lares das pessoas.\n",
        "\n",
        "Sendo assim, nós usamos um serviço chamado [Open Source Routing Machine](http://project-osrm.org/) (OSRM), que retorna a distância de rua em vez da Euclidiana. Existe um servidor preparado para os alunos do curso, e a variável `osrm_config` armazena seu endereço."
      ]
    },
    {
      "cell_type": "markdown",
      "metadata": {
        "id": "eWNZ7DsVdnmv"
      },
      "source": [
        "Fora esta configuração, a função `solve` do módulo `lkh_3` resolve o problema `problem`.\n",
        "\n",
        "Assim como existe o tipo `CVRPInstance` para descrever uma instância, existe o `CVRPSolution` para descrever uma possível solução. Ela possui o formato:\n",
        "\n",
        "```python\n",
        "class CVRPSolution(JSONDataclassMixin):\n",
        "    name: str\n",
        "    vehicles: List[CVRPSolutionVehicle]\n",
        "```\n",
        "\n",
        "A propriedade `vehicles` contém uma lista, em que cada elemento é uma variável com a rota seguida pelo veículo.\n",
        "\n",
        "Cada veículo, por sua vez, é um `CVRPSolutionVehicle` da forma:\n",
        "\n",
        "```python\n",
        "class CVRPSolutionVehicle:\n",
        "    origin: Point\n",
        "    deliveries: List[Delivery]\n",
        "```\n",
        "\n",
        "Logo, cada um contém o ponto de partida (que neste caso é sempre o mesmo e é igual a `problem.origin`), e um conjunto de entregas. Este conjunto é um subconjunto de todas as entregas em `problem.deliveries`, com a diferença de que a ordem em que as entregas aparecem na lista é a mesma ordem com que elas são entregues na realidade."
      ]
    },
    {
      "cell_type": "code",
      "metadata": {
        "id": "5btMShdL-a04"
      },
      "source": [
        "print(f\"Nossa solução precisou de {len(solution.vehicles)} veículos/rotas\")"
      ],
      "execution_count": null,
      "outputs": []
    },
    {
      "cell_type": "code",
      "metadata": {
        "id": "d2Jk26pFe0ri"
      },
      "source": [
        "# Use este espaço para analisar novamente os parâmetros de sua `solution`"
      ],
      "execution_count": null,
      "outputs": []
    },
    {
      "cell_type": "markdown",
      "metadata": {
        "id": "vUVVVdAYe37r"
      },
      "source": [
        "Caso estas listas de listas soem um tanto abstratas, podemos visualizar as rotas retornadas:"
      ]
    },
    {
      "cell_type": "code",
      "metadata": {
        "id": "-jcHW7SAfaJs"
      },
      "source": [
        "from loggibud.v1.plotting.plot_solution import plot_cvrp_solution\n",
        "\n",
        "\n",
        "plot_cvrp_solution(solution)"
      ],
      "execution_count": null,
      "outputs": []
    },
    {
      "cell_type": "markdown",
      "metadata": {
        "id": "44KHtztkfgFT"
      },
      "source": [
        "Esta visualização ilustra as entregas em linha reta de uma para outra. Existe no mesmo módulo uma função para traçá-las nas ruas, que pode ser mais intuitiva neste caso:"
      ]
    },
    {
      "cell_type": "code",
      "metadata": {
        "id": "LCbDWFnBf6co"
      },
      "source": [
        "# Aqui estão as rotas visualizadas em rua\n",
        "from loggibud.v1.plotting.plot_solution import plot_cvrp_solution_routes\n",
        "\n",
        "\n",
        "plot_cvrp_solution_routes(solution, config=osrm_config)"
      ],
      "execution_count": null,
      "outputs": []
    },
    {
      "cell_type": "markdown",
      "metadata": {
        "id": "1K5l52Gl-Iq-"
      },
      "source": [
        "Volte algumas células para rever as posições dos pedidos, e compare novamente com as rotas.\n",
        "\n",
        "Além de visualizá-las, podemos também querer determinar qual a distância total em km que deve ser percorrida por todos os nossos veículos."
      ]
    },
    {
      "cell_type": "code",
      "metadata": {
        "id": "c-gOoMnQ-nf8"
      },
      "source": [
        "from loggibud.v1.eval.task1 import evaluate_solution\n",
        "\n",
        "\n",
        "evaluate_solution(problem, solution, config=osrm_config)"
      ],
      "execution_count": null,
      "outputs": []
    },
    {
      "cell_type": "markdown",
      "metadata": {
        "id": "xmEsP5hwgEJj"
      },
      "source": [
        "## Resolvendo uma instância de um Problema Dinâmico"
      ]
    },
    {
      "cell_type": "markdown",
      "metadata": {
        "id": "QNMD_X1QgGaY"
      },
      "source": [
        "O problema anterior assume que todas as entregas já estão disponíveis no nosso ponto de partida. Porém, na realidade de empresas grandes como a Loggi, nós normalmente não temos espaço suficiente para comportar todas as entregas de um dia; e mesmo que dispuséssemos de galpões gigantescos, os pedidos podem chegar em momentos imprevisíveis, e não faria sentido deixar entregas que já chegaram esperando para então executar o algoritmo de antes. Como se não bastasse, podem existir outras restrições operacionais, como alguns pedidos possuírem prazos distintos de entregas.\n",
        "\n",
        "Sendo assim, é interessante que nosso solver seja capaz de atribuir uma entrega a um veículo à medida em que ela torna-se disponível para nós. Este é o caso de interesse neste curso. \n",
        "\n",
        "O problema de antes costuma ser conhecido como \"Estático\" já que toda informação necessária está disponível desde o início e mantém-se fixa. Em contraste, este problema em que a informação mostra-se disponível com o tempo é denominado \"Dinâmico\"."
      ]
    },
    {
      "cell_type": "markdown",
      "metadata": {
        "id": "_CjCDAeDC_7r"
      },
      "source": [
        "### Resolvendo o problema usando uma solução ingênua"
      ]
    },
    {
      "cell_type": "markdown",
      "metadata": {
        "id": "4X76Qw_JklX8"
      },
      "source": [
        "### Visão geral"
      ]
    },
    {
      "cell_type": "markdown",
      "metadata": {
        "id": "TNetJ8qxix8k"
      },
      "source": [
        "Teremos todo o curso para nos familiarizar e aprofundar neste problema e nas razões pelas quais ele é tão complexo. Nesta aula introdutória, entretanto, faz sentido tentar resolvê-lo com um algoritmo \"ingênuo\"."
      ]
    },
    {
      "cell_type": "markdown",
      "metadata": {
        "id": "fJs3tk3wkJ9G"
      },
      "source": [
        "O nosso algoritmo funciona da seguinte forma: \n",
        "\n",
        "- Comece com um veículo vazio;\n",
        "- Ao chegar um novo pedido, coloque-o neste veículo se houver espaço. Caso contrário, finalize esta rota e parta para o próximo veículo;\n",
        "- Repita o processo até que todos os pacotes sejam processados.\n",
        "\n",
        "Bem simples, certo? Para exemplificar, considere o seguinte problema com 8 entregas. Elas chegam na ordem 1, 2, 3, ..., 8, mas, claro, isto não é conhecido _a priori_ por nós. Imagine que temos 3 veículos disponíveis, cada um com capacidade para 3 pacotes.\n",
        "\n",
        "![naive_algorithm1.png](data:image/png;base64,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)"
      ]
    },
    {
      "cell_type": "markdown",
      "metadata": {
        "id": "-fR1FQnlkaK0"
      },
      "source": [
        "O que nosso algoritmo faria é:\n",
        "\n",
        "1. Coloque o pacote 1 no veículo 1;\n",
        "2. Coloque o próximo pacote 2 no veículo 1;\n",
        "3. Coloque o pacote 3 no veículo 1;\n",
        "\n",
        "A partir daí, o veículo 1 estaria cheio, e partiríamos para o próximo. No final das contas, nossas rotas seriam as seguintes:"
      ]
    },
    {
      "cell_type": "markdown",
      "metadata": {
        "id": "Ocw4AuT5KqPN"
      },
      "source": [
        "![naive_algorithm2.png](data:image/png;base64,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)"
      ]
    },
    {
      "cell_type": "markdown",
      "metadata": {
        "id": "eElDHypAkhpE"
      },
      "source": [
        "Esta proposta é bastante simples. Você consegue já prever alguns dos seus contratempos (Exercício 4)?"
      ]
    },
    {
      "cell_type": "markdown",
      "metadata": {
        "id": "XHKMLQ4hm709"
      },
      "source": [
        "### Implementação"
      ]
    },
    {
      "cell_type": "markdown",
      "metadata": {
        "id": "beNvl_kZm9dm"
      },
      "source": [
        "Com o algoritmo entendido, basta implementá-lo. Analise com bastante atenção o código a seguir:"
      ]
    },
    {
      "cell_type": "code",
      "metadata": {
        "id": "eBkAV_nrnJgT"
      },
      "source": [
        "from loggibud.v1.types import CVRPSolution, CVRPSolutionVehicle\n",
        "\n",
        "\n",
        "def solve_vrp_naive_algorithm(problem):\n",
        "    vehicles = []  # lista com todos os veículos\n",
        "    vehicle_deliveries = []  # inicializa o primeiro veículo vazio\n",
        "    for delivery in problem.deliveries:\n",
        "        if (\n",
        "            _compute_vehicle_volume(vehicle_deliveries) + delivery.size\n",
        "            <= problem.vehicle_capacity\n",
        "        ):\n",
        "            vehicle_deliveries.append(delivery)\n",
        "        else:\n",
        "            vehicle_solution = _construct_vehicle(problem, vehicle_deliveries)\n",
        "            vehicles.append(vehicle_solution)\n",
        "            # Inicializa novo veículo com o pacote atual\n",
        "            vehicle_deliveries = [delivery]\n",
        "\n",
        "    # Complete a rota do veículo final que sobrou\n",
        "    if vehicle_deliveries:\n",
        "        vehicle_solution = _construct_vehicle(problem, vehicle_deliveries)\n",
        "        vehicles.append(vehicle_solution)\n",
        "\n",
        "    # Ao final, retorne uma variável do tipo `CVRPSolution`\n",
        "    return CVRPSolution(name=problem.name, vehicles=vehicles)\n",
        "\n",
        "\n",
        "def _compute_vehicle_volume(deliveries):\n",
        "    volume = 0\n",
        "    for delivery in deliveries:\n",
        "        volume += delivery.size\n",
        "    return volume\n",
        "\n",
        "\n",
        "def _construct_vehicle(problem, vehicle_deliveries):\n",
        "    return CVRPSolutionVehicle(\n",
        "        origin=problem.origin, deliveries=vehicle_deliveries\n",
        "    )"
      ],
      "execution_count": null,
      "outputs": []
    },
    {
      "cell_type": "code",
      "metadata": {
        "id": "xCNMFJ6XnWtM"
      },
      "source": [
        "# Vamos experimentá-lo com o mesmo problema analisado antes\n",
        "solution = solve_vrp_naive_algorithm(problem)\n",
        "solution"
      ],
      "execution_count": null,
      "outputs": []
    },
    {
      "cell_type": "code",
      "metadata": {
        "id": "E043HPOUnmfh"
      },
      "source": [
        "# Aqui estão as rotas visualizadas em rua\n",
        "from loggibud.v1.plotting.plot_solution import plot_cvrp_solution_routes\n",
        "from loggibud.v1.distances import OSRMConfig\n",
        "\n",
        "\n",
        "osrm_config = OSRMConfig(host=\"http://ec2-34-222-175-250.us-west-2.compute.amazonaws.com\")\n",
        "plot_cvrp_solution_routes(solution, config=osrm_config)"
      ],
      "execution_count": null,
      "outputs": []
    },
    {
      "cell_type": "markdown",
      "metadata": {
        "id": "ZWvtve7koSbn"
      },
      "source": [
        "Aparentemente tudo parece o.k., certo? Um pouco bagunçado, mas sob controle.\n",
        "\n",
        "Bem, nesta visualização não é muito claro quando precisamos ir e voltar na mesma via diversas vezes. Neste caso, podemos melhor visualizar estes problemas com o seguinte mapa:"
      ]
    },
    {
      "cell_type": "code",
      "metadata": {
        "id": "X2UHAqKvoKk7"
      },
      "source": [
        "# Aqui estão as rotas visualizadas em linha reta\n",
        "from loggibud.v1.plotting.plot_solution import plot_cvrp_solution\n",
        "\n",
        "\n",
        "plot_cvrp_solution(solution)"
      ],
      "execution_count": null,
      "outputs": []
    },
    {
      "cell_type": "markdown",
      "metadata": {
        "id": "8AtnqTxmoi01"
      },
      "source": [
        "Veja a quantidade de zigue-zagues que geramos em diversas das rotas. Este problema é o mesmo de antes, então vale a pena comparar estas rotas com a do nosso solver anterior.\n",
        "\n",
        "Aqui está a distância total percorrida. Compare com o outro algoritmo, quando temos toda a informação disponível desde o início:"
      ]
    },
    {
      "cell_type": "code",
      "metadata": {
        "id": "iNJpjNB5o5Fw"
      },
      "source": [
        "from loggibud.v1.eval.task1 import evaluate_solution\n",
        "\n",
        "\n",
        "evaluate_solution(problem, solution, config=osrm_config)"
      ],
      "execution_count": null,
      "outputs": []
    },
    {
      "cell_type": "markdown",
      "metadata": {
        "id": "ALOykWJypA-0"
      },
      "source": [
        "# Resumo"
      ]
    },
    {
      "cell_type": "markdown",
      "metadata": {
        "id": "aqJCABK2pCi0"
      },
      "source": [
        "Nesta primeira aula nós tivemos nosso primeiro contato com o Colab e com o repositório do LoggiBUD. Bastante informação foi oferecida, mas não se preocupe em digerir tudo de uma vez. A proposta aqui foi oferecer uma visão superficial do problema que pretendemos resolver e das ferramentas disponíveis.\n",
        "\n",
        "Nas próximas aulas vamos nos aprofundar aos poucos em problemas importantes da literatura de Otimização Combinatória para que o nosso desafio seja bem compreendido."
      ]
    },
    {
      "cell_type": "markdown",
      "metadata": {
        "id": "YhYy7PM0DbtI"
      },
      "source": [
        "# Exercícios"
      ]
    },
    {
      "cell_type": "markdown",
      "metadata": {
        "id": "i83KiYcyC1i-"
      },
      "source": [
        "Para um melhor aprendizado, experimente elaborar uma solução por conta própria para cada exercício para só então comparar com as soluções sugeridas."
      ]
    },
    {
      "cell_type": "markdown",
      "metadata": {
        "id": "IUE7VMLPQKA7"
      },
      "source": [
        "## Exercício 1"
      ]
    },
    {
      "cell_type": "markdown",
      "metadata": {
        "id": "Cy3aL6JFQLvA"
      },
      "source": [
        "**Familiarize-se com as células de código do Collab**\n",
        "\n",
        "Construa uma calculadora com as funções de somar, subtrair, multiplicar e dividir. Crie uma função específica em cada célula, e em uma quinta experimente com as funções criadas.\n",
        "\n",
        "Sugestão: crie cada função com o formato\n",
        "\n",
        "```python\n",
        "def add(x, y):\n",
        "    return x + y\n",
        "```"
      ]
    },
    {
      "cell_type": "code",
      "metadata": {
        "id": "kVkLP8iRRBPf"
      },
      "source": [
        "# Programe aqui sua solução"
      ],
      "execution_count": null,
      "outputs": []
    },
    {
      "cell_type": "markdown",
      "metadata": {
        "id": "rYgGWiVLRmjM"
      },
      "source": [
        "## Exercício 2"
      ]
    },
    {
      "cell_type": "markdown",
      "metadata": {
        "id": "wqN1W0YQRpwF"
      },
      "source": [
        "**Familiarize-se com a estrutura dos arquivos de dados.**\n",
        "\n",
        "Navegue na pasta `data/` e verifique como as informações usadas neste curso estão disponíveis.\n",
        "\n",
        "Dica: pode ser tedioso usar uma combinação de `%cd` e `!ls` em cada pasta. Sendo assim, experimente pesquisar sobre o comando `tree`. Ele provavelmente não virá instalado, mas isso pode ser resolvido simplesmente com\n",
        "\n",
        "```bash\n",
        "!apt-get install tree\n",
        "```"
      ]
    },
    {
      "cell_type": "code",
      "metadata": {
        "id": "yO8E0Krbqqpv"
      },
      "source": [
        "# Programe aqui sua solução"
      ],
      "execution_count": null,
      "outputs": []
    },
    {
      "cell_type": "markdown",
      "metadata": {
        "id": "c85NF-3GlAeW"
      },
      "source": [
        "## Exercício 3"
      ]
    },
    {
      "cell_type": "markdown",
      "metadata": {
        "id": "2pwgTrcilCPm"
      },
      "source": [
        "**Repita o processo de resolver um problema do zero com o solver `lkh_3` para as seguintes instâncias:**\n",
        "\n",
        "- `dev/df-0/cvrp-0-df-90.json`\n",
        "- `dev/rj-0/cvrp-0-rj-90.json`\n",
        "\n",
        "Para cada uma, \n",
        "- visualize os pontos de entrega;\n",
        "- acompanhe o tempo gasto para resolvê-las;\n",
        "- verifique a distância total das rotas com `evaluate_solution`;\n",
        "- visualize as rotas geradas.\n",
        "- determine o tempo gasto pelo algoritmo.\n",
        "\n",
        "Dica: Para o tempo, uma abordagem simples é usar a função \"mágica\" `%timeit`. Basta colocá-la antes da linha de código que queremos testar, por exemplo:\n",
        "\n",
        "```python\n",
        "from loggibud.v1.baselines.task1 import lkh_3\n",
        "from loggibud.v1.distances import OSRMConfig\n",
        "\n",
        "# Usamos o OSRM para calcular as distâncias entre um pedido e outro\n",
        "osrm_config = OSRMConfig(host=\"http://ec2-34-222-175-250.us-west-2.compute.amazonaws.com\")\n",
        "lkh_params = lkh_3.LKHParams(osrm_config=osrm_config)\n",
        "\n",
        "%timeit solution = lkh_3.solve(problem, params=lkh_params)\n",
        "solution\n",
        "```\n",
        "\n",
        "Ao final, a célula retorna o tempo gasto para executar a linha `solution = lkh_3.solve(problem, params=lkh_params)`."
      ]
    },
    {
      "cell_type": "code",
      "metadata": {
        "id": "5Z4FiaqPqsvU"
      },
      "source": [
        "# Programe aqui sua solução"
      ],
      "execution_count": null,
      "outputs": []
    },
    {
      "cell_type": "markdown",
      "metadata": {
        "id": "vsZ3y2Mzl3-z"
      },
      "source": [
        "## Exercício 4"
      ]
    },
    {
      "cell_type": "markdown",
      "metadata": {
        "id": "60AH4Vo4l5nP"
      },
      "source": [
        "**Experimente enumerar alguns problemas do nosso algoritmo ingênuo.**"
      ]
    },
    {
      "cell_type": "code",
      "metadata": {
        "id": "2ltKFYthqvXP"
      },
      "source": [
        "# Programe aqui sua solução"
      ],
      "execution_count": null,
      "outputs": []
    },
    {
      "cell_type": "markdown",
      "metadata": {
        "id": "ueiZhVGEp4cb"
      },
      "source": [
        "## Exercício 5"
      ]
    },
    {
      "cell_type": "markdown",
      "metadata": {
        "id": "x2ALgUP4p5xL"
      },
      "source": [
        "**Repita o exercício 3 com o nosso solver ingênuo. Compare a distância total das rotas em cada caso.**"
      ]
    },
    {
      "cell_type": "code",
      "metadata": {
        "id": "r05BJq7Iqxsg"
      },
      "source": [
        "# Programe aqui sua solução"
      ],
      "execution_count": null,
      "outputs": []
    },
    {
      "cell_type": "markdown",
      "metadata": {
        "id": "6_meQuUKqCZP"
      },
      "source": [
        "## Exercício Suplementar"
      ]
    },
    {
      "cell_type": "markdown",
      "metadata": {
        "id": "Ps5HAzgbqDnU"
      },
      "source": [
        "Pesquise por ou imagine possibilidades melhores de solução do problema na versão dinâmica.\n",
        "\n",
        "Dica: Experimente procurar por palavras-chave como \"Problema de Roteamento de Veículos Dinâmico\" ou \"Dynamic Vehicle Routing Problem\"."
      ]
    },
    {
      "cell_type": "markdown",
      "metadata": {
        "id": "HvznSR32p2Xk"
      },
      "source": [
        "## Tarefa de casa"
      ]
    },
    {
      "cell_type": "markdown",
      "metadata": {
        "id": "yAdK3IowDnGx"
      },
      "source": [
        "**Manipulando planilhas do Drive usando Python**\n",
        "\n",
        "Em uma empresa com funcionários de diversas formações, poder manipular arquivos usando Python é uma ferramenta muito poderosa. Neste exercício vamos aprender a fazer isso usando o Colab.\n",
        "\n",
        "Desenvolva um código que resolve a instância `dev/df-0/cvrp-0-df-100.json` com o algoritmo ingênuo, retorna uma variável `solution` do tipo `CVRPSolution` e salva seu conteúdo em arquivo `solution_loggibud.json` em seu drive. Ao final, suba o arquivo gerado no formulário desta tarefa.\n",
        " \n",
        "Algumas dicas:\n",
        "\n",
        "1. Pesquise sobre o módulo `json` para aprender a como salvar arquivos neste formato. A função `asdict` do módulo `itertools` pode ser útil para converter a solução no formato esperado.\n",
        "\n",
        "2. Use o esquema abaixo como ponto de partida. \n",
        "\n",
        "Lembre-se de estar devidamente conectado ao seu drive como descrito na primeira seção desta aula."
      ]
    },
    {
      "cell_type": "code",
      "metadata": {
        "id": "YPdiMgDEYGvo"
      },
      "source": [
        "# Inclua aqui todo o código para resolver a instância dada com o solver ingênuo\n",
        "# Ao final você deve ter uma variável `solution` do tipo `CVRPSolution`."
      ],
      "execution_count": null,
      "outputs": []
    },
    {
      "cell_type": "code",
      "metadata": {
        "id": "NpGqJuGDHZqc"
      },
      "source": [
        "import json\n",
        "\n",
        "file_path = \"/content/drive/MyDrive/solution_loggibud.json\"\n",
        "\n",
        "with open(file_path, \"w\") as file:\n",
        "    # Salve aqui seu arquivo"
      ],
      "execution_count": null,
      "outputs": []
    }
  ]
}